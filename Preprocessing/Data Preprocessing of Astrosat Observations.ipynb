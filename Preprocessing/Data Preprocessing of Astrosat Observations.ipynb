{
 "cells": [
  {
   "cell_type": "code",
   "execution_count": 3,
   "metadata": {},
   "outputs": [],
   "source": [
    "#importing pandas Library\n",
    "import pandas as pd"
   ]
  },
  {
   "cell_type": "code",
   "execution_count": 4,
   "metadata": {},
   "outputs": [],
   "source": [
    "# reading Astrosat observation.txt file\n",
    "data_frame=pd.read_csv(\"AS_observations_cat_Sept2018 (1).txt\",sep='\\t',names=['Sr.No','Date_Time','U1','U2','CR1','CR2','U3','I1'])"
   ]
  },
  {
   "cell_type": "code",
   "execution_count": 5,
   "metadata": {},
   "outputs": [
    {
     "data": {
      "text/html": [
       "<div>\n",
       "<style scoped>\n",
       "    .dataframe tbody tr th:only-of-type {\n",
       "        vertical-align: middle;\n",
       "    }\n",
       "\n",
       "    .dataframe tbody tr th {\n",
       "        vertical-align: top;\n",
       "    }\n",
       "\n",
       "    .dataframe thead th {\n",
       "        text-align: right;\n",
       "    }\n",
       "</style>\n",
       "<table border=\"1\" class=\"dataframe\">\n",
       "  <thead>\n",
       "    <tr style=\"text-align: right;\">\n",
       "      <th></th>\n",
       "      <th>Sr.No</th>\n",
       "      <th>Date_Time</th>\n",
       "      <th>U1</th>\n",
       "      <th>U2</th>\n",
       "      <th>CR1</th>\n",
       "      <th>CR2</th>\n",
       "      <th>U3</th>\n",
       "      <th>I1</th>\n",
       "    </tr>\n",
       "  </thead>\n",
       "  <tbody>\n",
       "    <tr>\n",
       "      <th>0</th>\n",
       "      <td>1</td>\n",
       "      <td>2018-09-08 00:58:44</td>\n",
       "      <td>G08_066</td>\n",
       "      <td>T02</td>\n",
       "      <td>38.657792</td>\n",
       "      <td>-8.788100</td>\n",
       "      <td>G08_066T02_9000002346:: NGC 985</td>\n",
       "      <td>uvit2</td>\n",
       "    </tr>\n",
       "    <tr>\n",
       "      <th>1</th>\n",
       "      <td>2</td>\n",
       "      <td>2018-09-08 10:05:00</td>\n",
       "      <td>A04_104</td>\n",
       "      <td>T03</td>\n",
       "      <td>311.040700</td>\n",
       "      <td>-10.723457</td>\n",
       "      <td>A04_104T03_9000002348:: Mrk 509</td>\n",
       "      <td>sxt</td>\n",
       "    </tr>\n",
       "    <tr>\n",
       "      <th>2</th>\n",
       "      <td>3</td>\n",
       "      <td>2018-09-09 06:55:34</td>\n",
       "      <td>G08_081</td>\n",
       "      <td>T01</td>\n",
       "      <td>308.063667</td>\n",
       "      <td>37.637472</td>\n",
       "      <td>G08_081T01_9000002350:: EXO 2030+375</td>\n",
       "      <td>sxt</td>\n",
       "    </tr>\n",
       "    <tr>\n",
       "      <th>3</th>\n",
       "      <td>4</td>\n",
       "      <td>2018-09-10 04:06:12</td>\n",
       "      <td>T02_087</td>\n",
       "      <td>T01</td>\n",
       "      <td>274.005787</td>\n",
       "      <td>-14.036283</td>\n",
       "      <td>T02_087T01_9000002352:: GX 17+2</td>\n",
       "      <td>laxpc2</td>\n",
       "    </tr>\n",
       "    <tr>\n",
       "      <th>4</th>\n",
       "      <td>5</td>\n",
       "      <td>2018-09-11 10:40:04</td>\n",
       "      <td>T02_100</td>\n",
       "      <td>T01</td>\n",
       "      <td>248.506708</td>\n",
       "      <td>-47.393000</td>\n",
       "      <td>T02_100T01_9000002354:: 4u1630-472</td>\n",
       "      <td>laxpc1</td>\n",
       "    </tr>\n",
       "  </tbody>\n",
       "</table>\n",
       "</div>"
      ],
      "text/plain": [
       "   Sr.No            Date_Time       U1   U2         CR1        CR2  \\\n",
       "0      1  2018-09-08 00:58:44  G08_066  T02   38.657792  -8.788100   \n",
       "1      2  2018-09-08 10:05:00  A04_104  T03  311.040700 -10.723457   \n",
       "2      3  2018-09-09 06:55:34  G08_081  T01  308.063667  37.637472   \n",
       "3      4  2018-09-10 04:06:12  T02_087  T01  274.005787 -14.036283   \n",
       "4      5  2018-09-11 10:40:04  T02_100  T01  248.506708 -47.393000   \n",
       "\n",
       "                                     U3      I1  \n",
       "0       G08_066T02_9000002346:: NGC 985   uvit2  \n",
       "1       A04_104T03_9000002348:: Mrk 509     sxt  \n",
       "2  G08_081T01_9000002350:: EXO 2030+375     sxt  \n",
       "3       T02_087T01_9000002352:: GX 17+2  laxpc2  \n",
       "4    T02_100T01_9000002354:: 4u1630-472  laxpc1  "
      ]
     },
     "execution_count": 5,
     "metadata": {},
     "output_type": "execute_result"
    }
   ],
   "source": [
    "data_frame.head()"
   ]
  },
  {
   "cell_type": "code",
   "execution_count": 6,
   "metadata": {},
   "outputs": [],
   "source": [
    "#Creating new columns to segregrate name of the object\n",
    "data_frame[['In','Name']]=data_frame['U3'].str.split(\"::\",expand=True)"
   ]
  },
  {
   "cell_type": "code",
   "execution_count": 8,
   "metadata": {},
   "outputs": [
    {
     "data": {
      "text/plain": [
       "(900, 10)"
      ]
     },
     "execution_count": 8,
     "metadata": {},
     "output_type": "execute_result"
    }
   ],
   "source": [
    "# Shape of our DataFrame\n",
    "data_frame.shape"
   ]
  },
  {
   "cell_type": "code",
   "execution_count": 7,
   "metadata": {},
   "outputs": [
    {
     "data": {
      "text/html": [
       "<div>\n",
       "<style scoped>\n",
       "    .dataframe tbody tr th:only-of-type {\n",
       "        vertical-align: middle;\n",
       "    }\n",
       "\n",
       "    .dataframe tbody tr th {\n",
       "        vertical-align: top;\n",
       "    }\n",
       "\n",
       "    .dataframe thead th {\n",
       "        text-align: right;\n",
       "    }\n",
       "</style>\n",
       "<table border=\"1\" class=\"dataframe\">\n",
       "  <thead>\n",
       "    <tr style=\"text-align: right;\">\n",
       "      <th></th>\n",
       "      <th>Sr.No</th>\n",
       "      <th>Date_Time</th>\n",
       "      <th>U1</th>\n",
       "      <th>U2</th>\n",
       "      <th>CR1</th>\n",
       "      <th>CR2</th>\n",
       "      <th>U3</th>\n",
       "      <th>I1</th>\n",
       "      <th>In</th>\n",
       "      <th>Name</th>\n",
       "    </tr>\n",
       "  </thead>\n",
       "  <tbody>\n",
       "    <tr>\n",
       "      <th>0</th>\n",
       "      <td>1</td>\n",
       "      <td>2018-09-08 00:58:44</td>\n",
       "      <td>G08_066</td>\n",
       "      <td>T02</td>\n",
       "      <td>38.657792</td>\n",
       "      <td>-8.788100</td>\n",
       "      <td>G08_066T02_9000002346:: NGC 985</td>\n",
       "      <td>uvit2</td>\n",
       "      <td>G08_066T02_9000002346</td>\n",
       "      <td>NGC 985</td>\n",
       "    </tr>\n",
       "    <tr>\n",
       "      <th>1</th>\n",
       "      <td>2</td>\n",
       "      <td>2018-09-08 10:05:00</td>\n",
       "      <td>A04_104</td>\n",
       "      <td>T03</td>\n",
       "      <td>311.040700</td>\n",
       "      <td>-10.723457</td>\n",
       "      <td>A04_104T03_9000002348:: Mrk 509</td>\n",
       "      <td>sxt</td>\n",
       "      <td>A04_104T03_9000002348</td>\n",
       "      <td>Mrk 509</td>\n",
       "    </tr>\n",
       "    <tr>\n",
       "      <th>2</th>\n",
       "      <td>3</td>\n",
       "      <td>2018-09-09 06:55:34</td>\n",
       "      <td>G08_081</td>\n",
       "      <td>T01</td>\n",
       "      <td>308.063667</td>\n",
       "      <td>37.637472</td>\n",
       "      <td>G08_081T01_9000002350:: EXO 2030+375</td>\n",
       "      <td>sxt</td>\n",
       "      <td>G08_081T01_9000002350</td>\n",
       "      <td>EXO 2030+375</td>\n",
       "    </tr>\n",
       "    <tr>\n",
       "      <th>3</th>\n",
       "      <td>4</td>\n",
       "      <td>2018-09-10 04:06:12</td>\n",
       "      <td>T02_087</td>\n",
       "      <td>T01</td>\n",
       "      <td>274.005787</td>\n",
       "      <td>-14.036283</td>\n",
       "      <td>T02_087T01_9000002352:: GX 17+2</td>\n",
       "      <td>laxpc2</td>\n",
       "      <td>T02_087T01_9000002352</td>\n",
       "      <td>GX 17+2</td>\n",
       "    </tr>\n",
       "    <tr>\n",
       "      <th>4</th>\n",
       "      <td>5</td>\n",
       "      <td>2018-09-11 10:40:04</td>\n",
       "      <td>T02_100</td>\n",
       "      <td>T01</td>\n",
       "      <td>248.506708</td>\n",
       "      <td>-47.393000</td>\n",
       "      <td>T02_100T01_9000002354:: 4u1630-472</td>\n",
       "      <td>laxpc1</td>\n",
       "      <td>T02_100T01_9000002354</td>\n",
       "      <td>4u1630-472</td>\n",
       "    </tr>\n",
       "  </tbody>\n",
       "</table>\n",
       "</div>"
      ],
      "text/plain": [
       "   Sr.No            Date_Time       U1   U2         CR1        CR2  \\\n",
       "0      1  2018-09-08 00:58:44  G08_066  T02   38.657792  -8.788100   \n",
       "1      2  2018-09-08 10:05:00  A04_104  T03  311.040700 -10.723457   \n",
       "2      3  2018-09-09 06:55:34  G08_081  T01  308.063667  37.637472   \n",
       "3      4  2018-09-10 04:06:12  T02_087  T01  274.005787 -14.036283   \n",
       "4      5  2018-09-11 10:40:04  T02_100  T01  248.506708 -47.393000   \n",
       "\n",
       "                                     U3      I1                     In  \\\n",
       "0       G08_066T02_9000002346:: NGC 985   uvit2  G08_066T02_9000002346   \n",
       "1       A04_104T03_9000002348:: Mrk 509     sxt  A04_104T03_9000002348   \n",
       "2  G08_081T01_9000002350:: EXO 2030+375     sxt  G08_081T01_9000002350   \n",
       "3       T02_087T01_9000002352:: GX 17+2  laxpc2  T02_087T01_9000002352   \n",
       "4    T02_100T01_9000002354:: 4u1630-472  laxpc1  T02_100T01_9000002354   \n",
       "\n",
       "            Name  \n",
       "0        NGC 985  \n",
       "1        Mrk 509  \n",
       "2   EXO 2030+375  \n",
       "3        GX 17+2  \n",
       "4     4u1630-472  "
      ]
     },
     "execution_count": 7,
     "metadata": {},
     "output_type": "execute_result"
    }
   ],
   "source": [
    "data_frame.head()"
   ]
  },
  {
   "cell_type": "code",
   "execution_count": 11,
   "metadata": {},
   "outputs": [],
   "source": [
    "# Saving the dataframe as .csv file\n",
    "data_frame.to_csv('Astro_Sat_obs_final.csv')"
   ]
  },
  {
   "cell_type": "code",
   "execution_count": null,
   "metadata": {},
   "outputs": [],
   "source": []
  }
 ],
 "metadata": {
  "kernelspec": {
   "display_name": "Python 3.7.3 64-bit ('base': conda)",
   "language": "python",
   "name": "python37364bitbaseconda971ba31e63c548448c452f11cdbbc5de"
  },
  "language_info": {
   "codemirror_mode": {
    "name": "ipython",
    "version": 3
   },
   "file_extension": ".py",
   "mimetype": "text/x-python",
   "name": "python",
   "nbconvert_exporter": "python",
   "pygments_lexer": "ipython3",
   "version": "3.8.3"
  }
 },
 "nbformat": 4,
 "nbformat_minor": 4
}
