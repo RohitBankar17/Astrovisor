{
 "cells": [
  {
   "cell_type": "code",
   "execution_count": 1,
   "metadata": {},
   "outputs": [
    {
     "data": {
      "text/html": [
       "<script>jQuery(function() {if (jQuery(\"body.notebook_app\").length == 0) { jQuery(\".input_area\").toggle(); jQuery(\".prompt\").toggle();}});</script>"
      ]
     },
     "metadata": {},
     "output_type": "display_data"
    },
    {
     "data": {
      "text/html": [
       "<button onclick=\"jQuery('.input_area').toggle(); jQuery('.prompt').toggle();\">Toggle code</button>"
      ]
     },
     "metadata": {},
     "output_type": "display_data"
    }
   ],
   "source": [
    "#Hiding the codes from the cells, so that only the outputs are visible\n",
    "from IPython.display import display\n",
    "from IPython.display import HTML\n",
    "import IPython.core.display as di # Example: di.display_html('<h3>%s:</h3>' % str, raw=True)\n",
    "\n",
    "# This line will hide code by default when the notebook is exported as HTML\n",
    "di.display_html('<script>jQuery(function() {if (jQuery(\"body.notebook_app\").length == 0) { jQuery(\".input_area\").toggle(); jQuery(\".prompt\").toggle();}});</script>', raw=True)\n",
    "\n",
    "# This line will add a button to toggle visibility of code blocks, for use with the HTML export version\n",
    "di.display_html('''<button onclick=\"jQuery('.input_area').toggle(); jQuery('.prompt').toggle();\">Toggle code</button>''', raw=True)"
   ]
  },
  {
   "cell_type": "code",
   "execution_count": 1,
   "metadata": {},
   "outputs": [
    {
     "data": {
      "application/vnd.jupyter.widget-view+json": {
       "model_id": "d36646a676b74feda5bc9535088e4179",
       "version_major": 2,
       "version_minor": 0
      },
      "text/plain": [
       "FileUpload(value={}, description='astrosat')"
      ]
     },
     "metadata": {},
     "output_type": "display_data"
    },
    {
     "data": {
      "application/vnd.jupyter.widget-view+json": {
       "model_id": "9faf71d56183438c8e8c814e3ac5ec4d",
       "version_major": 2,
       "version_minor": 0
      },
      "text/plain": [
       "FileUpload(value={}, description='hmxbcat')"
      ]
     },
     "metadata": {},
     "output_type": "display_data"
    },
    {
     "data": {
      "application/vnd.jupyter.widget-view+json": {
       "model_id": "b1b059db65f14f3aacd3c3ef362d2416",
       "version_major": 2,
       "version_minor": 0
      },
      "text/plain": [
       "FileUpload(value={}, description='lmxbcat')"
      ]
     },
     "metadata": {},
     "output_type": "display_data"
    }
   ],
   "source": [
    "#Importing required libraries\n",
    "from ipywidgets import widgets\n",
    "import io\n",
    "import pandas as pd\n",
    "\n",
    "#Creating the upload widgets so that required files can be uploaded. This section can be modified in accordance with the data provided\n",
    "uploader = widgets.FileUpload(description = 'astrosat')\n",
    "display(uploader)\n",
    "uploaderOne = widgets.FileUpload(description = 'hmxbcat')\n",
    "display(uploaderOne)\n",
    "uploaderTwo = widgets.FileUpload(description = 'lmxbcat')\n",
    "display(uploaderTwo)"
   ]
  },
  {
   "cell_type": "code",
   "execution_count": 2,
   "metadata": {},
   "outputs": [
    {
     "data": {
      "application/vnd.jupyter.widget-view+json": {
       "model_id": "87be2d700c2843aabc51a51ca6d8ea5c",
       "version_major": 2,
       "version_minor": 0
      },
      "text/plain": [
       "Aladin(fov=1.0, options=['allow_full_zoomout', 'coo_frame', 'fov', 'full_screen', 'log', 'overlay_survey', 'ov…"
      ]
     },
     "metadata": {},
     "output_type": "display_data"
    }
   ],
   "source": [
    "import pandas as pd\n",
    "from astropy.table import Table #For passing the catalogs to the ipyaladin widget\n",
    "\n",
    "#Loading the uploaded files into a dataframe\n",
    "df = pd.read_csv(io.BytesIO(uploader.value[next(iter(uploader.value))]['content']))\n",
    "dfOne = pd.read_csv(io.BytesIO(uploaderOne.value[next(iter(uploaderOne.value))]['content']))\n",
    "dfTwo = pd.read_csv(io.BytesIO(uploaderTwo.value[next(iter(uploaderTwo.value))]['content']))\n",
    "\n",
    "\n",
    "# Converting the catalogs in catalog A to astropy tables. These would be visualised later\n",
    "tableOne = Table.from_pandas(dfOne)\n",
    "tableTwo = Table.from_pandas(dfTwo)\n",
    "\n",
    "#Converting the coordinates in dfOne(Catalog A, hmxb) to degrees\n",
    "Ra= []\n",
    "Dec = []\n",
    "for i in range(len(dfOne)):\n",
    "    a = list(dfOne['RAJ2000'][i].split())\n",
    "    Ra.append(float(a[0])*15+float(a[1])*(15/60)+float(a[2])*(15/3600))\n",
    "    b = list(dfOne['DEJ2000'][i].split())\n",
    "    Dec.append(float(b[0])+float(b[1])*(1/60)+float(b[2])*(1/3600)) \n",
    "dfOne['Ra'] = Ra\n",
    "dfOne['Dec'] = Dec\n",
    "\n",
    "#Converting the coordinates in dfTwo(Catalog B, lmxb) to degrees\n",
    "Ra= []\n",
    "Dec = []\n",
    "for i in range(len(dfTwo)):\n",
    "    a = list(dfTwo['RAJ2000'][i].split())\n",
    "    Ra.append(float(a[0])*15+float(a[1])*(15/60)+float(a[2])*(15/3600))\n",
    "    b = list(dfTwo['DEJ2000'][i].split())\n",
    "    Dec.append(float(b[0])+float(b[1])*(1/60)+float(b[2])*(1/3600)) \n",
    "dfTwo['Ra'] = Ra\n",
    "dfTwo['Dec'] = Dec\n",
    "\n",
    "#Finding which elements in the catalogs A(hmxb and lmxb) and catalog B (astrosat) are common\n",
    "listOne = []\n",
    "listTwo = []\n",
    "epsilon = 0.1 #Allowed tolerance for variation in RA, Dec values in J2000 (checked and verified with other values, and comparision)\n",
    "for i in range(len(df)): #Finding the correlations between hmxb and astrosat files\n",
    "    for j in range(len(dfOne)):\n",
    "        if (abs(dfOne['Ra'][j]-df['CR1'][i])<epsilon) and (abs(dfOne['Dec'][j]-df['CR2'][i])<epsilon):\n",
    "            listOne.append([j, i])\n",
    "for i in range(len(df)): #Finding the correlations between lmxb and astrosat files\n",
    "    for j in range(len(dfTwo)):\n",
    "        if (abs(dfTwo['Ra'][j]-df['CR1'][i])<epsilon) and (abs(dfTwo['Dec'][j]-df['CR2'][i])<epsilon):\n",
    "            listTwo.append([j,i])\n",
    "            \n",
    "#Loading and displaying catalog A with ipyaladin widget            \n",
    "import ipyaladin as ipyal\n",
    "aladin = ipyal.Aladin(target='messier 51', fov=1)\n",
    "display(aladin)\n",
    "aladin.add_table(tableOne)\n",
    "aladin.add_table(tableTwo)"
   ]
  },
  {
   "cell_type": "code",
   "execution_count": 5,
   "metadata": {},
   "outputs": [
    {
     "data": {
      "application/vnd.jupyter.widget-view+json": {
       "model_id": "afb31341ce1141e8a1c2fbbb118cda3e",
       "version_major": 2,
       "version_minor": 0
      },
      "text/plain": [
       "Text(value='', placeholder='Enter the name of the object')"
      ]
     },
     "metadata": {},
     "output_type": "display_data"
    },
    {
     "data": {
      "application/vnd.jupyter.widget-view+json": {
       "model_id": "6a35d8aee9704b57b3c7597f78d2e21e",
       "version_major": 2,
       "version_minor": 0
      },
      "text/plain": [
       "Button(description='search', style=ButtonStyle())"
      ]
     },
     "metadata": {},
     "output_type": "display_data"
    },
    {
     "data": {
      "application/vnd.jupyter.widget-view+json": {
       "model_id": "d178a8cc2f5740ccab54b02f84c8ae1a",
       "version_major": 2,
       "version_minor": 0
      },
      "text/plain": [
       "Button(description='Download (PDF)', style=ButtonStyle())"
      ]
     },
     "metadata": {},
     "output_type": "display_data"
    },
    {
     "name": "stdout",
     "output_type": "stream",
     "text": [
      "From the high mass x ray binary catalogue\n",
      "\n",
      "\n",
      "(57, Name                                                J0635+0533\n",
      "Type                                                         P\n",
      "RAJ2000                                           06 35 17.400\n",
      "u_RAs                                                      NaN\n",
      "DEJ2000                                           +05 33 20.90\n",
      "u_DEs                                                      NaN\n",
      "GLON                                                     206.1\n",
      "GLAT                                                        -1\n",
      "Pos                                                          x\n",
      "e_Pos                                                       60\n",
      "Opt                                                        NaN\n",
      "r_Opt                                                      352\n",
      "Vmag                                                     12.83\n",
      "Vmagl                                                      NaN\n",
      "u_Vmag                                                     NaN\n",
      "B-V                                                       0.98\n",
      "u_B-V                                                      NaN\n",
      "B-Vl                                                       NaN\n",
      "U-B                                                        NaN\n",
      "l_E_B-V_                                                   NaN\n",
      "E_B-V_                                                     1.2\n",
      "l_E_B-V_2                                                  NaN\n",
      "E_B-V_2                                                    NaN\n",
      "u_E_B-V_                                                   NaN\n",
      "r_Vmag                                                     352\n",
      "l_Fx                                                       NaN\n",
      "Fx                                                        0.55\n",
      "Fxu                                                        NaN\n",
      "Range                                                      NaN\n",
      "r_Fx                                                       352\n",
      "Porb                                                       NaN\n",
      "Porb2                                                      NaN\n",
      "u_Porb                                                     NaN\n",
      "Ppulse                                                  0.0338\n",
      "u_Ppulse                                                   NaN\n",
      "r_Ppulse                                                   152\n",
      "Cat                                                          B\n",
      "SpType                                              B2V-B1IIIe\n",
      "Name2                                                      NaN\n",
      "u_Name2                                                    NaN\n",
      "Name3                                                      NaN\n",
      "BibCodes     1999ApJ...523..197K-Kaaret et al.,2000ApJ...52...\n",
      "Ra                                                     98.8225\n",
      "Dec                                                    5.55581\n",
      "Name: 57, dtype: object)\n"
     ]
    }
   ],
   "source": [
    "#Widgets for searching for objects by name, and downloading a pdf\n",
    "from ipywidgets import widgets\n",
    "import fpdf\n",
    "\n",
    "#Search the object\n",
    "text = widgets.Text(placeholder = 'Enter the name of the object')\n",
    "display(text)\n",
    "def search(placeholder):\n",
    "    if (dfOne['Name']== text.value).any(): #Print the pertinent row in the dataframe if object found\n",
    "        print('From the high mass x ray binary catalogue\\n\\n')\n",
    "        content = dfOne[dfOne['Name']==text.value]\n",
    "        for i in content.iterrows():\n",
    "            ind = i[0] #Locating the rows in the hmxb catalog\n",
    "            print(i)\n",
    "        for i in range(len(listOne)): #Check for correlations in hmxb and astrosat and print if object found in astrosat\n",
    "            if listOne[i][0]==ind:\n",
    "                print('\\nFrom the Astrosat catalogue\\n')\n",
    "                contentA = df.iloc[listOne[i][1], :]\n",
    "                print(contentA)\n",
    "                \n",
    "            \n",
    "            \n",
    "            \n",
    "    elif (dfTwo['Name']==text.value).any(): #Print the pertinent row in the dataframe if object found\n",
    "        print('From the low mass x ray binary catalogue\\n\\n')\n",
    "        content = dfTwo[dfTwo['Name']==text.value]\n",
    "        for i in content.iterrows():\n",
    "            ind = i[0] #Locating the rows in the lmxb catalog\n",
    "            print(i)\n",
    "        for i in range(len(listTwo)): #Check for correlations in lmxb and astrosat and print if object found in astrosat\n",
    "            if listTwo[i][0]==ind:\n",
    "                print('\\nFrom the Astrosat catalogue\\n')\n",
    "                contentB = df.iloc[listTwo[i][1], :]\n",
    "                print(contentB)\n",
    "    else:\n",
    "        print('Object not found in the database uploaded') #In case the user enters an incorrect name\n",
    "        \n",
    "        \n",
    "        \n",
    "#printing the displayed information\n",
    "def download(placeholder):\n",
    "    \n",
    "    pdf = fpdf.FPDF(format='letter')\n",
    "    pdf.add_page()\n",
    "    pdf.set_font(\"Arial\", size=12)\n",
    "    \n",
    "    \n",
    "    if (dfOne['Name']== text.value).any():\n",
    "        pdf.write(5, 'From the high mass x ray binary catalogue\\n\\n')\n",
    "        content = dfOne[dfOne['Name']==text.value]\n",
    "        for i in content.iterrows():\n",
    "            ind = i[0] #Locating the rows in the hmxb catalog\n",
    "            pdf.write(5, str(i))\n",
    "            pdf.ln()\n",
    "        for i in range(len(listOne)):\n",
    "            if listOne[i][0]==ind:\n",
    "                pdf.write(5, '\\nFrom the Astrosat catalogue\\n')\n",
    "                contentA = df.iloc[listOne[i][1], :]\n",
    "                pdf.write(5, str(contentA))\n",
    "                \n",
    "            \n",
    "            \n",
    "            \n",
    "    elif (dfTwo['Name']==text.value).any():\n",
    "        pdf.write(5, 'From the low mass x ray binary catalogue\\n\\n')\n",
    "        content = dfTwo[dfTwo['Name']==text.value]\n",
    "        for i in content.iterrows():\n",
    "            ind = i[0] #Locating the rows in the lmxb catalog\n",
    "            pdf.write(5, str(i))\n",
    "            pdf.ln()\n",
    "        for i in range(len(listTwo)):\n",
    "            if listTwo[i][0]==ind:\n",
    "                pdf.write(5, '\\nFrom the Astrosat catalogue\\n')\n",
    "                contentB = df.iloc[listTwo[i][1], :]\n",
    "                pdf.write(5, str(contentB))\n",
    "    else:\n",
    "        print('Object not found in the database uploaded')\n",
    "\n",
    "    pdf.output(text.value+'.pdf')\n",
    "        \n",
    "#Buttons and search bar widgets        \n",
    "btn = widgets.Button(description = 'search')\n",
    "display(btn)\n",
    "btn.on_click(search)\n",
    "btnOne = widgets.Button(description = 'Download (PDF)')\n",
    "display(btnOne)\n",
    "btnOne.on_click(download)\n",
    "\n"
   ]
  }
 ],
 "metadata": {
  "kernelspec": {
   "display_name": "Python 3",
   "language": "python",
   "name": "python3"
  },
  "language_info": {
   "codemirror_mode": {
    "name": "ipython",
    "version": 3
   },
   "file_extension": ".py",
   "mimetype": "text/x-python",
   "name": "python",
   "nbconvert_exporter": "python",
   "pygments_lexer": "ipython3",
   "version": "3.7.4"
  }
 },
 "nbformat": 4,
 "nbformat_minor": 2
}
